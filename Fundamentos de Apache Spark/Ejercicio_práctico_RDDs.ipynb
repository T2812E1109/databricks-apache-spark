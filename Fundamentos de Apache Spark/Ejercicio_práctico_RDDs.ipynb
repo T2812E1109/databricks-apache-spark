{
 "cells": [
  {
   "cell_type": "markdown",
   "id": "22bc4d93",
   "metadata": {},
   "source": [
    "# Ejercicio Práctico RDDs"
   ]
  },
  {
   "cell_type": "code",
   "execution_count": 7,
   "id": "c1a214d6",
   "metadata": {
    "ExecuteTime": {
     "start_time": "2023-04-25T10:23:00.555889Z",
     "end_time": "2023-04-25T10:23:00.580079Z"
    }
   },
   "outputs": [],
   "source": [
    "import findspark\n",
    "\n",
    "findspark.init()\n",
    "\n",
    "import pandas as pd\n",
    "import pyspark\n",
    "from pyspark.sql import SparkSession"
   ]
  },
  {
   "cell_type": "code",
   "execution_count": 8,
   "id": "bd8b0d7c",
   "metadata": {
    "ExecuteTime": {
     "start_time": "2023-04-25T10:23:02.478855Z",
     "end_time": "2023-04-25T10:23:02.512350Z"
    }
   },
   "outputs": [],
   "source": [
    "spark = SparkSession.builder.getOrCreate()\n",
    "sc = spark.sparkContext"
   ]
  },
  {
   "cell_type": "code",
   "execution_count": 13,
   "id": "1479e36b",
   "metadata": {
    "ExecuteTime": {
     "start_time": "2023-04-25T10:26:14.894847Z",
     "end_time": "2023-04-25T10:26:14.927927Z"
    }
   },
   "outputs": [],
   "source": [
    "## Genera un RDD (newRDD) con la siguiente lista [1, 2, 3, 4, 5]\n",
    "newRDD = sc.parallelize([1, 2, 3, 4, 5])"
   ]
  },
  {
   "cell_type": "code",
   "execution_count": 15,
   "id": "9bc25ae9",
   "metadata": {
    "ExecuteTime": {
     "start_time": "2023-04-25T10:26:25.351205Z",
     "end_time": "2023-04-25T10:26:34.717201Z"
    }
   },
   "outputs": [
    {
     "data": {
      "text/plain": "[2, 4, 6, 8, 10]"
     },
     "execution_count": 15,
     "metadata": {},
     "output_type": "execute_result"
    }
   ],
   "source": [
    "## Multiplica por 2 todos los elementos del RDD anterior\n",
    "output = newRDD.map(lambda x: x * 2)\n",
    "output.collect()"
   ]
  },
  {
   "cell_type": "code",
   "execution_count": 16,
   "id": "a047081a",
   "metadata": {
    "ExecuteTime": {
     "start_time": "2023-04-25T10:27:35.298905Z",
     "end_time": "2023-04-25T10:27:44.386402Z"
    }
   },
   "outputs": [
    {
     "data": {
      "text/plain": "[2, 4, 6]"
     },
     "execution_count": 16,
     "metadata": {},
     "output_type": "execute_result"
    }
   ],
   "source": [
    "data = [1, 2, 3, 4, 5, 6]\n",
    "\n",
    "myRDD = sc.parallelize(data)\n",
    "\n",
    "## Filtra el RDD anterior por los elementos pares\n",
    "output = myRDD.filter(lambda x: x % 2 == 0)\n",
    "output.collect()"
   ]
  },
  {
   "cell_type": "code",
   "execution_count": 17,
   "id": "aeb368f0",
   "metadata": {
    "ExecuteTime": {
     "start_time": "2023-04-25T10:27:54.521279Z",
     "end_time": "2023-04-25T10:28:12.687323Z"
    }
   },
   "outputs": [
    {
     "data": {
      "text/plain": "[1, 2, 3, 4, 5, 6]"
     },
     "execution_count": 17,
     "metadata": {},
     "output_type": "execute_result"
    }
   ],
   "source": [
    "## Muestra los elementos unicos del RDD\n",
    "output = myRDD.distinct()\n",
    "output.collect()"
   ]
  },
  {
   "cell_type": "code",
   "execution_count": 18,
   "id": "787c7986",
   "metadata": {
    "ExecuteTime": {
     "start_time": "2023-04-25T10:28:45.873508Z",
     "end_time": "2023-04-25T10:29:03.804975Z"
    }
   },
   "outputs": [
    {
     "data": {
      "text/plain": "[('b', 1), ('a', 6)]"
     },
     "execution_count": 18,
     "metadata": {},
     "output_type": "execute_result"
    }
   ],
   "source": [
    "from operator import add\n",
    "\n",
    "myRDD = sc.parallelize([('a', 1), ('a', 2), ('a', 3), ('b', 1)])\n",
    "\n",
    "## Obten la suma de los valores agrupados por el key\n",
    "output = myRDD.reduceByKey(lambda x, y: x + y)\n",
    "output.collect()"
   ]
  },
  {
   "cell_type": "code",
   "execution_count": 25,
   "id": "5133d6f2",
   "metadata": {
    "ExecuteTime": {
     "start_time": "2023-04-25T10:43:13.396483Z",
     "end_time": "2023-04-25T10:43:58.015001Z"
    }
   },
   "outputs": [
    {
     "data": {
      "text/plain": "[('a', 2), ('b', 1), ('c', 1)]"
     },
     "execution_count": 25,
     "metadata": {},
     "output_type": "execute_result"
    }
   ],
   "source": [
    "## Ordena los RDDs en base al key\n",
    "output = myRDD.reduceByKey(lambda x, y: x + y).sortByKey()\n",
    "output.collect()"
   ]
  },
  {
   "cell_type": "code",
   "execution_count": 30,
   "id": "bfe2d705",
   "metadata": {
    "ExecuteTime": {
     "start_time": "2023-04-25T10:51:16.560717Z",
     "end_time": "2023-04-25T10:51:25.547408Z"
    }
   },
   "outputs": [],
   "source": [
    "data = [1, 2, 3, 4, 5]\n",
    "\n",
    "myRDD = sc.parallelize(data)\n",
    "## Toma los elementos del RDD para multiplicarlos entre si y obtener un resultado\n",
    "output = myRDD.reduce(lambda x, y: x * y)"
   ]
  },
  {
   "cell_type": "code",
   "execution_count": 34,
   "id": "b6139be0",
   "metadata": {
    "ExecuteTime": {
     "start_time": "2023-04-25T10:53:09.259184Z",
     "end_time": "2023-04-25T10:53:18.153117Z"
    }
   },
   "outputs": [
    {
     "name": "stdout",
     "output_type": "stream",
     "text": [
      "defaultdict(<class 'int'>, {'Python': 3, 'Scala': 1, 'R': 2, 'Java': 1})\n"
     ]
    }
   ],
   "source": [
    "data = ['Python', 'Scala', 'Python', 'R', 'Python', 'Java', 'R']\n",
    "\n",
    "myRDD = sc.parallelize(data)\n",
    "\n",
    "## Cuenta cuantas veces aparece cada valor\n",
    "output = myRDD.countByValue()\n",
    "print(output)"
   ]
  },
  {
   "cell_type": "markdown",
   "source": [],
   "metadata": {
    "collapsed": false
   }
  },
  {
   "cell_type": "code",
   "execution_count": 35,
   "id": "633f7716",
   "metadata": {
    "ExecuteTime": {
     "start_time": "2023-04-25T10:53:42.131394Z",
     "end_time": "2023-04-25T10:53:51.176968Z"
    }
   },
   "outputs": [
    {
     "name": "stdout",
     "output_type": "stream",
     "text": [
      "defaultdict(<class 'int'>, {'a': 2, 'b': 1, 'c': 1})\n"
     ]
    }
   ],
   "source": [
    "data = [('a', 1), ('b', 1), ('c', 1), ('a', 1)]\n",
    "myRDD = sc.parallelize(data)\n",
    "\n",
    "## Cuenta cuantas veces aparece cada una de las keys\n",
    "output = myRDD.countByKey()\n",
    "print(output)"
   ]
  },
  {
   "cell_type": "code",
   "execution_count": null,
   "id": "f0cea10a",
   "metadata": {},
   "outputs": [],
   "source": []
  }
 ],
 "metadata": {
  "kernelspec": {
   "display_name": "Python 3 (ipykernel)",
   "language": "python",
   "name": "python3"
  },
  "language_info": {
   "codemirror_mode": {
    "name": "ipython",
    "version": 3
   },
   "file_extension": ".py",
   "mimetype": "text/x-python",
   "name": "python",
   "nbconvert_exporter": "python",
   "pygments_lexer": "ipython3",
   "version": "3.8.12"
  }
 },
 "nbformat": 4,
 "nbformat_minor": 5
}
